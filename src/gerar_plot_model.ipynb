{
 "cells": [
  {
   "cell_type": "code",
   "execution_count": 2,
   "metadata": {},
   "outputs": [
    {
     "name": "stdout",
     "output_type": "stream",
     "text": [
      "Modelo carregado com sucesso!\n",
      "Gráfico da arquitetura salvo em: C:\\Repositorios\\Meus\\PAI-Detecao-de-doencas-em-plantas-com-visao-computacional\\src\\modelos\\ResNet50_20241130_193303\\model_architecture.png\n"
     ]
    }
   ],
   "source": [
    "from tensorflow.keras.models import load_model\n",
    "from tensorflow.keras.utils import plot_model\n",
    "import os\n",
    "\n",
    "# Definir o caminho do modelo salvo\n",
    "model_path = r\"C:\\Repositorios\\Meus\\PAI-Detecao-de-doencas-em-plantas-com-visao-computacional\\src\\modelos\\ResNet50_20241130_193303\\plant_disease_model_20241130_193327.h5\"  # Altere para o caminho correto do modelo salvo\n",
    "output_dir = r\"C:\\Repositorios\\Meus\\PAI-Detecao-de-doencas-em-plantas-com-visao-computacional\\src\\modelos\\ResNet50_20241130_193303\"  # Caminho para salvar o gráfico\n",
    "\n",
    "# Criar o diretório de saída, se não existir\n",
    "os.makedirs(output_dir, exist_ok=True)\n",
    "\n",
    "# Carregar o modelo salvo\n",
    "model = load_model(model_path)\n",
    "print(\"Modelo carregado com sucesso!\")\n",
    "\n",
    "# Gerar o gráfico do modelo\n",
    "plot_file = os.path.join(output_dir, \"model_architecture.png\")\n",
    "plot_model(\n",
    "    model, \n",
    "    to_file=plot_file,  # Caminho para salvar o gráfico\n",
    "    show_shapes=True,  # Mostra os formatos das entradas/saídas\n",
    "    show_layer_names=True  # Mostra os nomes das camadas\n",
    ")\n",
    "print(f\"Gráfico da arquitetura salvo em: {plot_file}\")\n"
   ]
  }
 ],
 "metadata": {
  "kernelspec": {
   "display_name": "py310",
   "language": "python",
   "name": "python3"
  },
  "language_info": {
   "codemirror_mode": {
    "name": "ipython",
    "version": 3
   },
   "file_extension": ".py",
   "mimetype": "text/x-python",
   "name": "python",
   "nbconvert_exporter": "python",
   "pygments_lexer": "ipython3",
   "version": "3.10.15"
  }
 },
 "nbformat": 4,
 "nbformat_minor": 2
}
