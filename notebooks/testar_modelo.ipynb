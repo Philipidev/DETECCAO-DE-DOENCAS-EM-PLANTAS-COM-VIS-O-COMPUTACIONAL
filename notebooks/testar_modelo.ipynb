{
 "cells": [
  {
   "cell_type": "code",
   "execution_count": 78,
   "metadata": {},
   "outputs": [
    {
     "name": "stderr",
     "output_type": "stream",
     "text": [
      "WARNING:absl:Compiled the loaded model, but the compiled metrics have yet to be built. `model.compile_metrics` will be empty until you train or evaluate the model.\n"
     ]
    }
   ],
   "source": [
    "import os\n",
    "import cv2\n",
    "import numpy as np\n",
    "import re\n",
    "from tensorflow.keras.models import load_model\n",
    "from tensorflow.keras.preprocessing.image import img_to_array\n",
    "import matplotlib.pyplot as plt\n",
    "\n",
    "# Diretório do conjunto de teste\n",
    "TEST_DIR = \"C:/Repositorios/Meus/PAI-Detecao-de-doencas-em-plantas-com-visao-computacional/data/raw/new-plant-diseases-dataset/test/test\"\n",
    "\n",
    "# Caminho do modelo salvo\n",
    "MODEL_PATH = \"C:/Repositorios/Meus/PAI-Detecao-de-doencas-em-plantas-com-visao-computacional/notebooks/modelos/PlantNet-DeepConv512-Robust_20241124_172312/plant_disease_model_20241124_174111.h5\"\n",
    "\n",
    "# Extraindo o nome do modelo automaticamente a partir do path\n",
    "MODEL_NAME = os.path.basename(os.path.dirname(MODEL_PATH))\n",
    "\n",
    "# Diretório para salvar os resultados\n",
    "SAVE_DIR = os.path.join(\n",
    "    r\"C:/Repositorios/Meus/PAI-Detecao-de-doencas-em-plantas-com-visao-computacional/notebooks/testes\",\n",
    "    MODEL_NAME\n",
    ")\n",
    "os.makedirs(SAVE_DIR, exist_ok=True)\n",
    "\n",
    "# Carregar o modelo treinado\n",
    "model = load_model(MODEL_PATH)"
   ]
  },
  {
   "cell_type": "code",
   "execution_count": 79,
   "metadata": {},
   "outputs": [
    {
     "name": "stdout",
     "output_type": "stream",
     "text": [
      "Número de classes no modelo: 15\n"
     ]
    }
   ],
   "source": [
    "# Verificar número de classes no modelo\n",
    "num_classes_model = model.output_shape[-1]\n",
    "print(f\"Número de classes no modelo: {num_classes_model}\")\n",
    "\n",
    "# Listar as classes usadas no treinamento diretamente do diretório de treino\n",
    "TRAIN_DIR = r\"C:\\Repositorios\\Meus\\PAI-Detecao-de-doencas-em-plantas-com-visao-computacional\\data\\raw\\new-plant-diseases-dataset\\New Plant Diseases Dataset(Augmented)\\New Plant Diseases Dataset(Augmented)\\train\"\n",
    "# classes_selecionadas = [d for d in os.listdir(TRAIN_DIR) if os.path.isdir(os.path.join(TRAIN_DIR, d))]\n",
    "classes_selecionadas = [\n",
    "    \"Corn_(maize)___Cercospora_leaf_spot Gray_leaf_spot\",\n",
    "    \"Corn_(maize)___Common_rust_\",\n",
    "    \"Corn_(maize)___Northern_Leaf_Blight\",\n",
    "    \"Corn_(maize)___healthy\",\n",
    "    # \"Grape___Black_rot\",\n",
    "    # \"Grape___Esca_(Black_Measles)\",\n",
    "    # \"Grape___Leaf_blight_(Isariopsis_Leaf_Spot)\",\n",
    "    # \"Grape___healthy\",\n",
    "    # \"Orange___Haunglongbing_(Citrus_greening)\",\n",
    "    \"Potato___Early_blight\",\n",
    "    \"Potato___Late_blight\",\n",
    "    \"Potato___healthy\",\n",
    "    \"Tomato___Bacterial_spot\",\n",
    "    \"Tomato___Early_blight\",\n",
    "    \"Tomato___Late_blight\",\n",
    "    \"Tomato___Leaf_Mold\",\n",
    "    \"Tomato___Target_Spot\",\n",
    "    \"Tomato___Tomato_mosaic_virus\",\n",
    "    \"Tomato___Tomato_Yellow_Leaf_Curl_Virus\",\n",
    "    \"Tomato___healthy\"\n",
    "]\n",
    "\n",
    "# Verificar se o número de classes coincide\n",
    "if len(classes_selecionadas) != num_classes_model:\n",
    "    print(f\"Alerta: O número de classes no modelo ({num_classes_model}) não corresponde ao número de classes treinadas ({len(classes_selecionadas)}).\")\n"
   ]
  },
  {
   "cell_type": "code",
   "execution_count": 80,
   "metadata": {},
   "outputs": [],
   "source": [
    "# Função para carregar e preparar a imagem\n",
    "def preparar_imagem(caminho_imagem, tamanho=(256, 256)):\n",
    "    img = cv2.imread(caminho_imagem)\n",
    "    img = cv2.cvtColor(img, cv2.COLOR_BGR2RGB)  # Converte para RGB\n",
    "    img = cv2.resize(img, tamanho)  # Redimensiona\n",
    "    img = img_to_array(img) / 255.0  # Normaliza e converte para array\n",
    "    return np.expand_dims(img, axis=0)  # Adiciona dimensão de batch"
   ]
  },
  {
   "cell_type": "code",
   "execution_count": 81,
   "metadata": {},
   "outputs": [
    {
     "name": "stdout",
     "output_type": "stream",
     "text": [
      "\u001b[1m1/1\u001b[0m \u001b[32m━━━━━━━━━━━━━━━━━━━━\u001b[0m\u001b[37m\u001b[0m \u001b[1m0s\u001b[0m 234ms/step\n",
      "\u001b[1m1/1\u001b[0m \u001b[32m━━━━━━━━━━━━━━━━━━━━\u001b[0m\u001b[37m\u001b[0m \u001b[1m0s\u001b[0m 78ms/step\n",
      "\u001b[1m1/1\u001b[0m \u001b[32m━━━━━━━━━━━━━━━━━━━━\u001b[0m\u001b[37m\u001b[0m \u001b[1m0s\u001b[0m 80ms/step\n",
      "\u001b[1m1/1\u001b[0m \u001b[32m━━━━━━━━━━━━━━━━━━━━\u001b[0m\u001b[37m\u001b[0m \u001b[1m0s\u001b[0m 87ms/step\n",
      "\u001b[1m1/1\u001b[0m \u001b[32m━━━━━━━━━━━━━━━━━━━━\u001b[0m\u001b[37m\u001b[0m \u001b[1m0s\u001b[0m 84ms/step\n",
      "\u001b[1m1/1\u001b[0m \u001b[32m━━━━━━━━━━━━━━━━━━━━\u001b[0m\u001b[37m\u001b[0m \u001b[1m0s\u001b[0m 83ms/step\n",
      "\u001b[1m1/1\u001b[0m \u001b[32m━━━━━━━━━━━━━━━━━━━━\u001b[0m\u001b[37m\u001b[0m \u001b[1m0s\u001b[0m 83ms/step\n",
      "\u001b[1m1/1\u001b[0m \u001b[32m━━━━━━━━━━━━━━━━━━━━\u001b[0m\u001b[37m\u001b[0m \u001b[1m0s\u001b[0m 79ms/step\n",
      "\u001b[1m1/1\u001b[0m \u001b[32m━━━━━━━━━━━━━━━━━━━━\u001b[0m\u001b[37m\u001b[0m \u001b[1m0s\u001b[0m 83ms/step\n",
      "\u001b[1m1/1\u001b[0m \u001b[32m━━━━━━━━━━━━━━━━━━━━\u001b[0m\u001b[37m\u001b[0m \u001b[1m0s\u001b[0m 80ms/step\n",
      "\u001b[1m1/1\u001b[0m \u001b[32m━━━━━━━━━━━━━━━━━━━━\u001b[0m\u001b[37m\u001b[0m \u001b[1m0s\u001b[0m 80ms/step\n",
      "\u001b[1m1/1\u001b[0m \u001b[32m━━━━━━━━━━━━━━━━━━━━\u001b[0m\u001b[37m\u001b[0m \u001b[1m0s\u001b[0m 81ms/step\n",
      "\u001b[1m1/1\u001b[0m \u001b[32m━━━━━━━━━━━━━━━━━━━━\u001b[0m\u001b[37m\u001b[0m \u001b[1m0s\u001b[0m 81ms/step\n",
      "\u001b[1m1/1\u001b[0m \u001b[32m━━━━━━━━━━━━━━━━━━━━\u001b[0m\u001b[37m\u001b[0m \u001b[1m0s\u001b[0m 79ms/step\n",
      "\u001b[1m1/1\u001b[0m \u001b[32m━━━━━━━━━━━━━━━━━━━━\u001b[0m\u001b[37m\u001b[0m \u001b[1m0s\u001b[0m 80ms/step\n",
      "\u001b[1m1/1\u001b[0m \u001b[32m━━━━━━━━━━━━━━━━━━━━\u001b[0m\u001b[37m\u001b[0m \u001b[1m0s\u001b[0m 81ms/step\n",
      "\u001b[1m1/1\u001b[0m \u001b[32m━━━━━━━━━━━━━━━━━━━━\u001b[0m\u001b[37m\u001b[0m \u001b[1m0s\u001b[0m 78ms/step\n",
      "\u001b[1m1/1\u001b[0m \u001b[32m━━━━━━━━━━━━━━━━━━━━\u001b[0m\u001b[37m\u001b[0m \u001b[1m0s\u001b[0m 84ms/step\n",
      "\u001b[1m1/1\u001b[0m \u001b[32m━━━━━━━━━━━━━━━━━━━━\u001b[0m\u001b[37m\u001b[0m \u001b[1m0s\u001b[0m 81ms/step\n",
      "\u001b[1m1/1\u001b[0m \u001b[32m━━━━━━━━━━━━━━━━━━━━\u001b[0m\u001b[37m\u001b[0m \u001b[1m0s\u001b[0m 81ms/step\n",
      "\u001b[1m1/1\u001b[0m \u001b[32m━━━━━━━━━━━━━━━━━━━━\u001b[0m\u001b[37m\u001b[0m \u001b[1m0s\u001b[0m 77ms/step\n",
      "\u001b[1m1/1\u001b[0m \u001b[32m━━━━━━━━━━━━━━━━━━━━\u001b[0m\u001b[37m\u001b[0m \u001b[1m0s\u001b[0m 82ms/step\n",
      "\u001b[1m1/1\u001b[0m \u001b[32m━━━━━━━━━━━━━━━━━━━━\u001b[0m\u001b[37m\u001b[0m \u001b[1m0s\u001b[0m 79ms/step\n",
      "\u001b[1m1/1\u001b[0m \u001b[32m━━━━━━━━━━━━━━━━━━━━\u001b[0m\u001b[37m\u001b[0m \u001b[1m0s\u001b[0m 82ms/step\n",
      "\u001b[1m1/1\u001b[0m \u001b[32m━━━━━━━━━━━━━━━━━━━━\u001b[0m\u001b[37m\u001b[0m \u001b[1m0s\u001b[0m 82ms/step\n",
      "\u001b[1m1/1\u001b[0m \u001b[32m━━━━━━━━━━━━━━━━━━━━\u001b[0m\u001b[37m\u001b[0m \u001b[1m0s\u001b[0m 84ms/step\n",
      "\u001b[1m1/1\u001b[0m \u001b[32m━━━━━━━━━━━━━━━━━━━━\u001b[0m\u001b[37m\u001b[0m \u001b[1m0s\u001b[0m 84ms/step\n",
      "\u001b[1m1/1\u001b[0m \u001b[32m━━━━━━━━━━━━━━━━━━━━\u001b[0m\u001b[37m\u001b[0m \u001b[1m0s\u001b[0m 81ms/step\n",
      "\u001b[1m1/1\u001b[0m \u001b[32m━━━━━━━━━━━━━━━━━━━━\u001b[0m\u001b[37m\u001b[0m \u001b[1m0s\u001b[0m 81ms/step\n",
      "\u001b[1m1/1\u001b[0m \u001b[32m━━━━━━━━━━━━━━━━━━━━\u001b[0m\u001b[37m\u001b[0m \u001b[1m0s\u001b[0m 84ms/step\n",
      "\u001b[1m1/1\u001b[0m \u001b[32m━━━━━━━━━━━━━━━━━━━━\u001b[0m\u001b[37m\u001b[0m \u001b[1m0s\u001b[0m 84ms/step\n",
      "\u001b[1m1/1\u001b[0m \u001b[32m━━━━━━━━━━━━━━━━━━━━\u001b[0m\u001b[37m\u001b[0m \u001b[1m0s\u001b[0m 82ms/step\n",
      "\u001b[1m1/1\u001b[0m \u001b[32m━━━━━━━━━━━━━━━━━━━━\u001b[0m\u001b[37m\u001b[0m \u001b[1m0s\u001b[0m 81ms/step\n",
      "Resultados visuais salvos nas pastas: ['C:/Repositorios/Meus/PAI-Detecao-de-doencas-em-plantas-com-visao-computacional/notebooks/testes\\\\PlantNet-DeepConv512-Robust_20241124_172312\\\\Corretos', 'C:/Repositorios/Meus/PAI-Detecao-de-doencas-em-plantas-com-visao-computacional/notebooks/testes\\\\PlantNet-DeepConv512-Robust_20241124_172312\\\\Errados', 'C:/Repositorios/Meus/PAI-Detecao-de-doencas-em-plantas-com-visao-computacional/notebooks/testes\\\\PlantNet-DeepConv512-Robust_20241124_172312\\\\Desconhecidos']\n"
     ]
    }
   ],
   "source": [
    "# Criar subpastas para resultados\n",
    "pastas_resultados = {\n",
    "    \"Corretos\": os.path.join(SAVE_DIR, \"Corretos\"),\n",
    "    \"Errados\": os.path.join(SAVE_DIR, \"Errados\"),\n",
    "    \"Desconhecidos\": os.path.join(SAVE_DIR, \"Desconhecidos\")\n",
    "}\n",
    "for pasta in pastas_resultados.values():\n",
    "    os.makedirs(pasta, exist_ok=True)\n",
    "\n",
    "# Processar imagens do conjunto de teste\n",
    "for arquivo in os.listdir(TEST_DIR):\n",
    "    caminho_completo = os.path.join(TEST_DIR, arquivo)\n",
    "    if arquivo.lower().endswith(('.jpg', '.jpeg', '.png')):\n",
    "        # Preparar a imagem para predição\n",
    "        img = preparar_imagem(caminho_completo)\n",
    "        \n",
    "        # Fazer a predição\n",
    "        predicao = model.predict(img)\n",
    "        if len(predicao[0]) != num_classes_model:\n",
    "            print(f\"Predição inesperada para a imagem {arquivo}: {predicao}\")\n",
    "            continue\n",
    "        \n",
    "        # Obter a classe prevista\n",
    "        classe_prevista = classes_selecionadas[np.argmax(predicao)] if np.argmax(predicao) < len(classes_selecionadas) else \"Desconhecido\"\n",
    "        \n",
    "        # Extrair palavras do nome do arquivo separando por case (camelCase ou PascalCase)\n",
    "        palavras_arquivo = [p.lower() for p in re.findall(r'[A-Z][a-z]*', arquivo.split('.')[0])]\n",
    "        palavras_classe = classe_prevista.lower()\n",
    "        \n",
    "        # Verificar se todas as palavras do nome da imagem estão no nome da classe prevista\n",
    "        correto = all(palavra in palavras_classe for palavra in palavras_arquivo)\n",
    "        \n",
    "        # Determinar a pasta de destino\n",
    "        if classe_prevista == \"Desconhecido\":\n",
    "            pasta_destino = pastas_resultados[\"Desconhecidos\"]\n",
    "        elif correto:\n",
    "            pasta_destino = pastas_resultados[\"Corretos\"]\n",
    "        else:\n",
    "            pasta_destino = pastas_resultados[\"Errados\"]\n",
    "        \n",
    "        # Visualizar resultado\n",
    "        img_original = cv2.imread(caminho_completo)\n",
    "        img_original = cv2.cvtColor(img_original, cv2.COLOR_BGR2RGB)  # Converte para RGB\n",
    "        \n",
    "        plt.figure(figsize=(8, 6))\n",
    "        plt.imshow(img_original)\n",
    "        plt.axis(\"off\")\n",
    "        plt.title(\n",
    "            f\"Imagem Atual: {arquivo}\\n\"\n",
    "            f\"Previsto: {classe_prevista}\\n\"\n",
    "            f\"{'Correto' if correto else 'Errado'}\",\n",
    "            fontsize=10, color='green' if correto else 'red'\n",
    "        )\n",
    "        \n",
    "        # Salvar visualização na pasta apropriada\n",
    "        plt.savefig(os.path.join(pasta_destino, f\"{arquivo}_resultado.png\"), dpi=300, bbox_inches='tight')\n",
    "        plt.close()\n",
    "\n",
    "print(f\"Resultados visuais salvos nas pastas: {list(pastas_resultados.values())}\")"
   ]
  }
 ],
 "metadata": {
  "kernelspec": {
   "display_name": "Python 3",
   "language": "python",
   "name": "python3"
  },
  "language_info": {
   "codemirror_mode": {
    "name": "ipython",
    "version": 3
   },
   "file_extension": ".py",
   "mimetype": "text/x-python",
   "name": "python",
   "nbconvert_exporter": "python",
   "pygments_lexer": "ipython3",
   "version": "3.10.0"
  }
 },
 "nbformat": 4,
 "nbformat_minor": 2
}
